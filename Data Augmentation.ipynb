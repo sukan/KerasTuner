{
 "cells": [
  {
   "cell_type": "code",
   "execution_count": null,
   "id": "395336a1",
   "metadata": {},
   "outputs": [],
   "source": [
    "from keras_preprocessing.image import ImageDataGenerator\n"
   ]
  },
  {
   "cell_type": "code",
   "execution_count": null,
   "id": "4f699066",
   "metadata": {},
   "outputs": [],
   "source": [
    " classes = ['Tomato___Bacterial_spot', 'Tomato___Early_blight', 'Tomato___healthy', 'Tomato___Late_blight', 'Tomato___Leaf_Mold', 'Tomato___Septoria_leaf_spot', 'Tomato___Spider_mites Two-spotted_spider_mite', 'Tomato___Target_Spot', 'Tomato___Tomato_mosaic_virus', 'Tomato___Tomato_Yellow_Leaf_Curl_Virus']\n",
    "    \n",
    "    \n",
    "augmentor_datagen = ImageDataGenerator( \n",
    "    rotation_range=25,      # random rotaition of image is between 0-45 degree \n",
    "    width_shift_range=0.1,  #shifts image horizontal\n",
    "    height_shift_range=0.1, #shifts image vertical\n",
    "    zoom_range=0.15,        #zoom image\n",
    "    horizontal_flip=True,\n",
    "    vertical_flip=True,\n",
    "    fill_mode=\"nearest\")# save aumented images\n",
    "\n",
    "num_Aug=[1,2,1,1,1,1,1,1,2,1]\n",
    "\n",
    "def Augment(path,class_Ind):\n",
    "    for img_name in tqdm.tqdm(os.listdir(path)): \n",
    "        img = np.expand_dims(cv2.imread(os.path.join(path,img_name)),axis=0)\n",
    "        i=num_Aug[class_Ind]\n",
    "        for batch in augmentor_datagen.flow(\n",
    "            img,\n",
    "            batch_size=1,\n",
    "            save_to_dir=os.path.join(save_dir+classes[class_Ind]),\n",
    "            save_prefix=classes[class_Ind],\n",
    "            save_format='jpg'):\n",
    "            i-=1\n",
    "            if i==0:\n",
    "                break\n",
    "\n",
    "img_dir = 'D:/DS/train/'\n",
    "save_dir = 'D:/DS/Augmented/'\n",
    "\n",
    "for folder in classes:\n",
    "    path = os.path.join(img_dir,folder)\n",
    "    class_Ind= classes.index(folder)\n",
    "    Augment(path,class_Ind)\n",
    "\n",
    "\n",
    "img_dir = 'D:/DS/test/' \n",
    "img_dir = 'D:/DS/train/'\n",
    "save_dir= 'D:/DS/Augmented/' \n",
    "\n",
    "\n",
    "for folder in classes:\n",
    "    path = os.path.join(img_dir,folder)\n",
    "    class_Ind= classes.index(folder)\n",
    "    Augment(path,class_Ind)\n",
    "for folder in classes:\n",
    "    path = os.path.join(img_dir,folder)\n",
    "    class_Ind= classes.index(folder)\n",
    "    Augment(path,class_Ind)"
   ]
  },
  {
   "cell_type": "code",
   "execution_count": null,
   "id": "c8f28b8d",
   "metadata": {},
   "outputs": [],
   "source": [
    "img_dir = 'D:/DS/test/'\n",
    "save_dir= 'D:/DS/testAugmented/' \n",
    "\n",
    "for folder in classes:\n",
    "    path = os.path.join(img_dir,folder)\n",
    "    class_Ind= classes.index(folder)\n",
    "    Augment(path,class_Ind)"
   ]
  },
  {
   "cell_type": "code",
   "execution_count": null,
   "id": "4d9ad9e8",
   "metadata": {},
   "outputs": [],
   "source": [
    "img_dir = 'D:/DS/valid/'\n",
    "save_dir= 'D:/DS/validAugmented/' \n",
    "\n",
    "for folder in classes:\n",
    "    path = os.path.join(img_dir,folder)\n",
    "    class_Ind= classes.index(folder)\n",
    "    Augment(path,class_Ind)"
   ]
  }
 ],
 "metadata": {
  "kernelspec": {
   "display_name": "Python 3",
   "language": "python",
   "name": "python3"
  },
  "language_info": {
   "codemirror_mode": {
    "name": "ipython",
    "version": 3
   },
   "file_extension": ".py",
   "mimetype": "text/x-python",
   "name": "python",
   "nbconvert_exporter": "python",
   "pygments_lexer": "ipython3",
   "version": "3.8.8"
  }
 },
 "nbformat": 4,
 "nbformat_minor": 5
}
